{
 "cells": [
  {
   "cell_type": "code",
   "execution_count": 1,
   "metadata": {},
   "outputs": [],
   "source": [
    "import numpy as np\n",
    "import matplotlib.pyplot as plt\n",
    "import pandas as pd"
   ]
  },
  {
   "cell_type": "code",
   "execution_count": 2,
   "metadata": {},
   "outputs": [
    {
     "name": "stdout",
     "output_type": "stream",
     "text": [
      "1 856\n",
      "1 670\n",
      "Number of unique users:  670\n",
      "Number of unique movies:  856\n"
     ]
    }
   ],
   "source": [
    "df = pd.read_csv('/home/supernova/Placement/Projects/Movie Recommender using Iterative RSVD/Processed_data_tmdb.csv')\n",
    "user_ids = df['user'].values\n",
    "movie_ids = df['movie'].values\n",
    "user_ratings = df['rating'].values\n",
    "\n",
    "# Assigning unique ids to users and movies\n",
    "unique_user_ids = np.unique(user_ids)\n",
    "unique_movie_ids = np.unique(movie_ids)\n",
    "print(np.min(unique_movie_ids), np.max(unique_movie_ids))\n",
    "print(np.min(unique_user_ids), np.max(unique_user_ids))\n",
    "unique_user_ids += 1\n",
    "unique_movie_ids += 1\n",
    "print('Number of unique users: ', len(unique_user_ids))\n",
    "print('Number of unique movies: ', len(unique_movie_ids))\n",
    "\n",
    "# Creating a matrix of users and movies\n",
    "n_users = len(np.unique(user_ids))\n",
    "n_movies = len(np.unique(movie_ids))\n",
    "user_movie_matrix = np.zeros((n_users, n_movies))\n",
    "for i in range(df.shape[0]):\n",
    "    user_movie_matrix[user_ids[i]-1, movie_ids[i]-1] = user_ratings[i]\n",
    "\n",
    "# df_movie_name\n",
    "df_movie_name = pd.read_csv(\"/home/supernova/Placement/Projects/Movie Recommender using Iterative RSVD/movie_names_tmdb.csv\")"
   ]
  },
  {
   "cell_type": "code",
   "execution_count": 3,
   "metadata": {},
   "outputs": [],
   "source": [
    "def RSVD(X, reg, k, niter, v_rand):\n",
    "    def UfromV(V, l, X):\n",
    "        temp = V.T@ V + l*np.identity(V.shape[1])\n",
    "        temp = np.linalg.inv(temp)\n",
    "        temp = V@temp\n",
    "        U = X@temp\n",
    "        return U\n",
    "    def VfromU(U, l, X):\n",
    "        temp = U.T@ U + l*np.identity(U.shape[1])\n",
    "        temp = np.linalg.inv(temp)\n",
    "        V = (X.T)@U@temp\n",
    "        return V\n",
    "\n",
    "    # Randomly initialised V with Column size = k  and Row size = n_movies\n",
    "    V = v_rand\n",
    "    threshould = 1e-20\n",
    "    error = []\n",
    "    i = 0\n",
    "    loss = 1e9\n",
    "    while i < (niter) and  loss > threshould:\n",
    "        V_temp = V\n",
    "        if i%2==0:\n",
    "            U = UfromV(V_temp, reg, X)\n",
    "        else:\n",
    "            V = VfromU(U, reg, X)\n",
    "            # print(\"testing: \", np.linalg.norm(V - V_temp))\n",
    "            error.append(np.linalg.norm(V - V_temp)/np.sqrt(V.shape[0]*V.shape[1]))\n",
    "            loss = np.linalg.norm(V - V_temp)\n",
    "        # error.append(np.linalg.norm(X - U@V.T))\n",
    "        i += 1\n",
    "    return U,V, error"
   ]
  },
  {
   "cell_type": "code",
   "execution_count": 4,
   "metadata": {},
   "outputs": [],
   "source": [
    "def well_defined_RSVD(X, reg, k):\n",
    "    F, S, G = np.linalg.svd(X)\n",
    "    G=G.T\n",
    "    D = np.zeros((X.shape[0], X.shape[1]))\n",
    "    S = np.diag(S)\n",
    "    # print(np.unique(S))\n",
    "    Omega = np.zeros((k, k))\n",
    "    for i in range(k):\n",
    "        Omega[i][i] = np.sqrt(np.abs(S[i][i]-reg))\n",
    "    # Omega = np.diag(Omega)\n",
    "    V_ = G[:, :k] @ Omega\n",
    "    U_ = F[:, :k] @ Omega\n",
    "    return U_, V_"
   ]
  },
  {
   "cell_type": "code",
   "execution_count": null,
   "metadata": {},
   "outputs": [
    {
     "name": "stdout",
     "output_type": "stream",
     "text": [
      "Error in V and V_ for lambda =  0  is:  1.5721600169368255\n",
      "Error in U and U_ for lambda =  0  is:  0.7833203591411781\n",
      "Overall mean error for lambda =  0  is:  1.0041528097579362\n",
      "Overall mean error for lambda =  0  is:  1.0040864186136162\n",
      "Error in V and V_ for lambda =  3  is:  1.1857989694692506\n",
      "Error in U and U_ for lambda =  3  is:  0.8449629053963865\n",
      "Overall mean error for lambda =  3  is:  1.0042837004916738\n",
      "Overall mean error for lambda =  3  is:  1.004109861389655\n",
      "Error in V and V_ for lambda =  5  is:  1.0999988166812844\n",
      "Error in U and U_ for lambda =  5  is:  0.8772629974430816\n",
      "Overall mean error for lambda =  5  is:  1.0043729965943065\n",
      "Overall mean error for lambda =  5  is:  1.0041515360846087\n",
      "Error in V and V_ for lambda =  10  is:  0.9937110450631802\n",
      "Error in U and U_ for lambda =  10  is:  0.9279637339228172\n",
      "Overall mean error for lambda =  10  is:  1.0046166529513902\n",
      "Overall mean error for lambda =  10  is:  1.0043468631659893\n",
      "Error in V and V_ for lambda =  0  is:  1.4573121694586035\n",
      "Error in U and U_ for lambda =  0  is:  0.6408055694737186\n",
      "Overall mean error for lambda =  0  is:  0.9718294508481368\n",
      "Overall mean error for lambda =  0  is:  0.9712823012980154\n",
      "Error in V and V_ for lambda =  3  is:  1.0245507168814996\n",
      "Error in U and U_ for lambda =  3  is:  0.7038477061521607\n",
      "Overall mean error for lambda =  3  is:  0.9720632986604675\n",
      "Overall mean error for lambda =  3  is:  0.971322691818134\n",
      "Error in V and V_ for lambda =  5  is:  0.9302999464856846\n",
      "Error in U and U_ for lambda =  5  is:  0.734045534306354\n",
      "Overall mean error for lambda =  5  is:  0.9722010182925701\n",
      "Overall mean error for lambda =  5  is:  0.9713944930404798\n",
      "Error in V and V_ for lambda =  10  is:  0.8233895700005021\n",
      "Error in U and U_ for lambda =  10  is:  0.7738499208762188\n",
      "Overall mean error for lambda =  10  is:  0.9725737414928006\n",
      "Overall mean error for lambda =  10  is:  0.971730990548915\n",
      "Error in V and V_ for lambda =  0  is:  1.323436753653391\n",
      "Error in U and U_ for lambda =  0  is:  0.5279370855128073\n",
      "Overall mean error for lambda =  0  is:  0.9180227881411259\n",
      "Overall mean error for lambda =  0  is:  0.9177306558773681\n",
      "Error in V and V_ for lambda =  3  is:  0.8358863259205869\n",
      "Error in U and U_ for lambda =  3  is:  0.5830214612425615\n",
      "Overall mean error for lambda =  3  is:  0.9184233738479787\n",
      "Overall mean error for lambda =  3  is:  0.9178161484683179\n",
      "Error in V and V_ for lambda =  5  is:  0.7538334844921822\n",
      "Error in U and U_ for lambda =  5  is:  0.6090559925468154\n",
      "Overall mean error for lambda =  5  is:  0.9186458535351782\n",
      "Overall mean error for lambda =  5  is:  0.9179681156370887\n",
      "Error in V and V_ for lambda =  10  is:  0.6664156849933297\n",
      "Error in U and U_ for lambda =  10  is:  0.6387882458743656\n",
      "Overall mean error for lambda =  10  is:  0.9193636202652364\n",
      "Overall mean error for lambda =  10  is:  0.9186801266457865\n",
      "Error in V and V_ for lambda =  0  is:  1.0504083951019134\n",
      "Error in U and U_ for lambda =  0  is:  0.35880952443090364\n",
      "Overall mean error for lambda =  0  is:  0.5210329746299416\n",
      "Overall mean error for lambda =  0  is:  0.5196520698934739\n",
      "Error in V and V_ for lambda =  3  is:  0.41921731020962527\n",
      "Error in U and U_ for lambda =  3  is:  0.4199873698841569\n",
      "Overall mean error for lambda =  3  is:  0.5232504300390871\n",
      "Overall mean error for lambda =  3  is:  0.5211597934086094\n",
      "Error in V and V_ for lambda =  5  is:  0.39807665177809043\n",
      "Error in U and U_ for lambda =  5  is:  0.426380694051301\n",
      "Overall mean error for lambda =  5  is:  0.5257317302972834\n",
      "Overall mean error for lambda =  5  is:  0.523829475723357\n",
      "Error in V and V_ for lambda =  10  is:  0.3753906109628433\n",
      "Error in U and U_ for lambda =  10  is:  0.41625734275748405\n",
      "Overall mean error for lambda =  10  is:  0.5378247276113659\n",
      "Overall mean error for lambda =  10  is:  0.5361664455304085\n"
     ]
    }
   ],
   "source": [
    "# Number of latent features K that we are considering\n",
    "\n",
    "K = [3, 5, 10, 100]\n",
    "for k in K:\n",
    "    v_rand = np.random.rand(user_movie_matrix.shape[1], k)\n",
    "\n",
    "    for l in [0, 3, 5, 10]:\n",
    "        U, V, error = RSVD(user_movie_matrix, l, k, 20, v_rand)\n",
    "        U_, V_ = well_defined_RSVD(user_movie_matrix, l, k)\n",
    "        print(\"Error in V and V_ for lambda = \", l, \" is: \", np.linalg.norm(V - V_)/np.sqrt(V.shape[0]*V.shape[1]))\n",
    "        print(\"Error in U and U_ for lambda = \", l, \" is: \", np.linalg.norm(U - U_)/np.sqrt(U.shape[0]*U.shape[1]))\n",
    "        print(\"Overall mean error for lambda = \", l, \" is: \", (np.linalg.norm(user_movie_matrix - U@V.T))/np.sqrt(user_movie_matrix.shape[0]*user_movie_matrix.shape[1]))\n",
    "        print(\"Overall mean error for lambda = \", l, \" is: \", (np.linalg.norm(user_movie_matrix - U_@V_.T))/np.sqrt(user_movie_matrix.shape[0]*user_movie_matrix.shape[1]))\n",
    "        plt.plot(error, label = \"lambda = \" + str(l))\n",
    "    plt.legend()\n",
    "    plt.xlabel(\"Iterations\")\n",
    "    plt.ylabel(\"$dV_t$\")\n",
    "    plt.title(\"Error vs Iterations for different values of lambda at K = \" + str(k))\n",
    "    # plt.show()\n",
    "    plt.savefig(\"/home/supernova/Placement/Projects/Movie Recommender using Iterative RSVD/Images_tmdb/K=\" + str(k) + \".png\")\n",
    "    plt.close()"
   ]
  },
  {
   "cell_type": "code",
   "execution_count": 7,
   "metadata": {},
   "outputs": [
    {
     "name": "stdout",
     "output_type": "stream",
     "text": [
      "14.54874116475603 -2.04043407423053\n",
      "14.6418858511283 -2.731920019575378\n"
     ]
    }
   ],
   "source": [
    "# the resulting matrix is\n",
    "E = U@V.T\n",
    "E_ = U_@V_.T\n",
    "print(np.max(E), np.min(E))\n",
    "print(np.max(E_), np.min(E_))"
   ]
  },
  {
   "cell_type": "code",
   "execution_count": 8,
   "metadata": {},
   "outputs": [
    {
     "name": "stdout",
     "output_type": "stream",
     "text": [
      "     Unnamed: 0  movie      original_title\n",
      "68        11519     69      Arlington Road\n",
      "385        5144    386              Lolita\n",
      "198       18391    199  Dogtown and Z-Boys\n",
      "836       15404    837   Y tu mamá también\n",
      "482       14732    483          Persepolis\n",
      "703        4699    704     The Last Castle\n",
      "437        8877    438  Mr. Holland's Opus\n",
      "393        3271    394          Madagascar\n",
      "439       10059    440      Mrs. Doubtfire\n",
      "384       16950    385          Lola rennt\n"
     ]
    }
   ],
   "source": [
    "#predicting the top N recommendations for a user\n",
    "def topNRecommendations(user_id, U, V, N):\n",
    "    user_id -= 1\n",
    "    user_ratings = U[user_id, :]\n",
    "    movie_ratings = V.T\n",
    "    Recommendation = user_ratings@movie_ratings\n",
    "    topN = np.argsort(Recommendation)[::-1][:N]\n",
    "    return topN\n",
    "a = topNRecommendations(1, U, V, 10)\n",
    "# print(a)\n",
    "print(df_movie_name.iloc[a, :])"
   ]
  },
  {
   "cell_type": "code",
   "execution_count": null,
   "metadata": {},
   "outputs": [],
   "source": []
  }
 ],
 "metadata": {
  "kernelspec": {
   "display_name": "base",
   "language": "python",
   "name": "python3"
  },
  "language_info": {
   "codemirror_mode": {
    "name": "ipython",
    "version": 3
   },
   "file_extension": ".py",
   "mimetype": "text/x-python",
   "name": "python",
   "nbconvert_exporter": "python",
   "pygments_lexer": "ipython3",
   "version": "3.11.7"
  }
 },
 "nbformat": 4,
 "nbformat_minor": 2
}
